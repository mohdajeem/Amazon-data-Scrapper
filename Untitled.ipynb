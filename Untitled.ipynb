{
 "cells": [
  {
   "cell_type": "code",
   "execution_count": 3,
   "id": "14310d0d-d636-44b9-aac9-5db133ec1018",
   "metadata": {},
   "outputs": [],
   "source": [
    "from selenium import webdriver"
   ]
  },
  {
   "cell_type": "code",
   "execution_count": 8,
   "id": "07867295-176f-4d96-9c93-73ba7f33e4ba",
   "metadata": {},
   "outputs": [],
   "source": [
    "browser = webdriver.Chrome()"
   ]
  },
  {
   "cell_type": "code",
   "execution_count": 9,
   "id": "03cb2d0e-bee4-476b-988d-8ebcab6874c3",
   "metadata": {},
   "outputs": [
    {
     "ename": "WebDriverException",
     "evalue": "Message: unknown error: net::ERR_CONNECTION_TIMED_OUT\n  (Session info: chrome=130.0.6723.117)\nStacktrace:\n\tGetHandleVerifier [0x00007FF714A338A5+3004357]\n\t(No symbol) [0x00007FF7146C9970]\n\t(No symbol) [0x00007FF71457582A]\n\t(No symbol) [0x00007FF714572F26]\n\t(No symbol) [0x00007FF714563E79]\n\t(No symbol) [0x00007FF714565C16]\n\t(No symbol) [0x00007FF71456413F]\n\t(No symbol) [0x00007FF7145639CB]\n\t(No symbol) [0x00007FF71456390A]\n\t(No symbol) [0x00007FF71456153E]\n\t(No symbol) [0x00007FF714561E0C]\n\t(No symbol) [0x00007FF7145788CA]\n\t(No symbol) [0x00007FF71460C86E]\n\t(No symbol) [0x00007FF7145EBBDA]\n\t(No symbol) [0x00007FF71460BA4C]\n\t(No symbol) [0x00007FF7145EB983]\n\t(No symbol) [0x00007FF7145B7628]\n\t(No symbol) [0x00007FF7145B8791]\n\tGetHandleVerifier [0x00007FF714A5A00D+3161901]\n\tGetHandleVerifier [0x00007FF714AAE060+3506048]\n\tGetHandleVerifier [0x00007FF714AA400D+3465005]\n\tGetHandleVerifier [0x00007FF714820EEB+830987]\n\t(No symbol) [0x00007FF7146D467F]\n\t(No symbol) [0x00007FF7146D09D4]\n\t(No symbol) [0x00007FF7146D0B6D]\n\t(No symbol) [0x00007FF7146C0149]\n\tBaseThreadInitThunk [0x00007FF87800259D+29]\n\tRtlUserThreadStart [0x00007FF87A26AF38+40]\n",
     "output_type": "error",
     "traceback": [
      "\u001b[1;31m---------------------------------------------------------------------------\u001b[0m",
      "\u001b[1;31mWebDriverException\u001b[0m                        Traceback (most recent call last)",
      "Cell \u001b[1;32mIn[9], line 1\u001b[0m\n\u001b[1;32m----> 1\u001b[0m browser\u001b[38;5;241m.\u001b[39mget(\u001b[38;5;124m'\u001b[39m\u001b[38;5;124mhttps://stake.com/\u001b[39m\u001b[38;5;124m'\u001b[39m)\n",
      "File \u001b[1;32m~\\AppData\\Roaming\\Python\\Python312\\site-packages\\selenium\\webdriver\\remote\\webdriver.py:363\u001b[0m, in \u001b[0;36mWebDriver.get\u001b[1;34m(self, url)\u001b[0m\n\u001b[0;32m    361\u001b[0m \u001b[38;5;28;01mdef\u001b[39;00m \u001b[38;5;21mget\u001b[39m(\u001b[38;5;28mself\u001b[39m, url: \u001b[38;5;28mstr\u001b[39m) \u001b[38;5;241m-\u001b[39m\u001b[38;5;241m>\u001b[39m \u001b[38;5;28;01mNone\u001b[39;00m:\n\u001b[0;32m    362\u001b[0m \u001b[38;5;250m    \u001b[39m\u001b[38;5;124;03m\"\"\"Loads a web page in the current browser session.\"\"\"\u001b[39;00m\n\u001b[1;32m--> 363\u001b[0m     \u001b[38;5;28mself\u001b[39m\u001b[38;5;241m.\u001b[39mexecute(Command\u001b[38;5;241m.\u001b[39mGET, {\u001b[38;5;124m\"\u001b[39m\u001b[38;5;124murl\u001b[39m\u001b[38;5;124m\"\u001b[39m: url})\n",
      "File \u001b[1;32m~\\AppData\\Roaming\\Python\\Python312\\site-packages\\selenium\\webdriver\\remote\\webdriver.py:354\u001b[0m, in \u001b[0;36mWebDriver.execute\u001b[1;34m(self, driver_command, params)\u001b[0m\n\u001b[0;32m    352\u001b[0m response \u001b[38;5;241m=\u001b[39m \u001b[38;5;28mself\u001b[39m\u001b[38;5;241m.\u001b[39mcommand_executor\u001b[38;5;241m.\u001b[39mexecute(driver_command, params)\n\u001b[0;32m    353\u001b[0m \u001b[38;5;28;01mif\u001b[39;00m response:\n\u001b[1;32m--> 354\u001b[0m     \u001b[38;5;28mself\u001b[39m\u001b[38;5;241m.\u001b[39merror_handler\u001b[38;5;241m.\u001b[39mcheck_response(response)\n\u001b[0;32m    355\u001b[0m     response[\u001b[38;5;124m\"\u001b[39m\u001b[38;5;124mvalue\u001b[39m\u001b[38;5;124m\"\u001b[39m] \u001b[38;5;241m=\u001b[39m \u001b[38;5;28mself\u001b[39m\u001b[38;5;241m.\u001b[39m_unwrap_value(response\u001b[38;5;241m.\u001b[39mget(\u001b[38;5;124m\"\u001b[39m\u001b[38;5;124mvalue\u001b[39m\u001b[38;5;124m\"\u001b[39m, \u001b[38;5;28;01mNone\u001b[39;00m))\n\u001b[0;32m    356\u001b[0m     \u001b[38;5;28;01mreturn\u001b[39;00m response\n",
      "File \u001b[1;32m~\\AppData\\Roaming\\Python\\Python312\\site-packages\\selenium\\webdriver\\remote\\errorhandler.py:229\u001b[0m, in \u001b[0;36mErrorHandler.check_response\u001b[1;34m(self, response)\u001b[0m\n\u001b[0;32m    227\u001b[0m         alert_text \u001b[38;5;241m=\u001b[39m value[\u001b[38;5;124m\"\u001b[39m\u001b[38;5;124malert\u001b[39m\u001b[38;5;124m\"\u001b[39m]\u001b[38;5;241m.\u001b[39mget(\u001b[38;5;124m\"\u001b[39m\u001b[38;5;124mtext\u001b[39m\u001b[38;5;124m\"\u001b[39m)\n\u001b[0;32m    228\u001b[0m     \u001b[38;5;28;01mraise\u001b[39;00m exception_class(message, screen, stacktrace, alert_text)  \u001b[38;5;66;03m# type: ignore[call-arg]  # mypy is not smart enough here\u001b[39;00m\n\u001b[1;32m--> 229\u001b[0m \u001b[38;5;28;01mraise\u001b[39;00m exception_class(message, screen, stacktrace)\n",
      "\u001b[1;31mWebDriverException\u001b[0m: Message: unknown error: net::ERR_CONNECTION_TIMED_OUT\n  (Session info: chrome=130.0.6723.117)\nStacktrace:\n\tGetHandleVerifier [0x00007FF714A338A5+3004357]\n\t(No symbol) [0x00007FF7146C9970]\n\t(No symbol) [0x00007FF71457582A]\n\t(No symbol) [0x00007FF714572F26]\n\t(No symbol) [0x00007FF714563E79]\n\t(No symbol) [0x00007FF714565C16]\n\t(No symbol) [0x00007FF71456413F]\n\t(No symbol) [0x00007FF7145639CB]\n\t(No symbol) [0x00007FF71456390A]\n\t(No symbol) [0x00007FF71456153E]\n\t(No symbol) [0x00007FF714561E0C]\n\t(No symbol) [0x00007FF7145788CA]\n\t(No symbol) [0x00007FF71460C86E]\n\t(No symbol) [0x00007FF7145EBBDA]\n\t(No symbol) [0x00007FF71460BA4C]\n\t(No symbol) [0x00007FF7145EB983]\n\t(No symbol) [0x00007FF7145B7628]\n\t(No symbol) [0x00007FF7145B8791]\n\tGetHandleVerifier [0x00007FF714A5A00D+3161901]\n\tGetHandleVerifier [0x00007FF714AAE060+3506048]\n\tGetHandleVerifier [0x00007FF714AA400D+3465005]\n\tGetHandleVerifier [0x00007FF714820EEB+830987]\n\t(No symbol) [0x00007FF7146D467F]\n\t(No symbol) [0x00007FF7146D09D4]\n\t(No symbol) [0x00007FF7146D0B6D]\n\t(No symbol) [0x00007FF7146C0149]\n\tBaseThreadInitThunk [0x00007FF87800259D+29]\n\tRtlUserThreadStart [0x00007FF87A26AF38+40]\n"
     ]
    }
   ],
   "source": [
    "browser.get('https://stake.com/')"
   ]
  },
  {
   "cell_type": "code",
   "execution_count": null,
   "id": "940e7bf3-b381-4f47-a36d-a95e5b4c7f26",
   "metadata": {},
   "outputs": [],
   "source": []
  },
  {
   "cell_type": "code",
   "execution_count": null,
   "id": "30e84c3a-b0f2-4603-a876-c0c3143dbfbf",
   "metadata": {},
   "outputs": [],
   "source": []
  }
 ],
 "metadata": {
  "kernelspec": {
   "display_name": "Python 3 (ipykernel)",
   "language": "python",
   "name": "python3"
  },
  "language_info": {
   "codemirror_mode": {
    "name": "ipython",
    "version": 3
   },
   "file_extension": ".py",
   "mimetype": "text/x-python",
   "name": "python",
   "nbconvert_exporter": "python",
   "pygments_lexer": "ipython3",
   "version": "3.12.7"
  }
 },
 "nbformat": 4,
 "nbformat_minor": 5
}
