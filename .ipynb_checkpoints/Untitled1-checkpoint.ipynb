{
 "cells": [
  {
   "cell_type": "code",
   "execution_count": 1,
   "id": "eb8f827d-79f3-482f-9bb5-19a45a68ddb0",
   "metadata": {},
   "outputs": [],
   "source": [
    "import pandas as pd\n",
    "import matplotlib.pyplot as plt"
   ]
  },
  {
   "cell_type": "code",
   "execution_count": 2,
   "id": "d5a8e325-6048-4c3e-852e-ba4a3a821b2b",
   "metadata": {},
   "outputs": [],
   "source": [
    "df = pd.read_csv('electric_heat_bag.csv')"
   ]
  },
  {
   "cell_type": "code",
   "execution_count": 3,
   "id": "afaff934-cfb9-41cf-ad19-1e736031c556",
   "metadata": {},
   "outputs": [
    {
     "data": {
      "text/html": [
       "<div>\n",
       "<style scoped>\n",
       "    .dataframe tbody tr th:only-of-type {\n",
       "        vertical-align: middle;\n",
       "    }\n",
       "\n",
       "    .dataframe tbody tr th {\n",
       "        vertical-align: top;\n",
       "    }\n",
       "\n",
       "    .dataframe thead th {\n",
       "        text-align: right;\n",
       "    }\n",
       "</style>\n",
       "<table border=\"1\" class=\"dataframe\">\n",
       "  <thead>\n",
       "    <tr style=\"text-align: right;\">\n",
       "      <th></th>\n",
       "      <th>prod_photo</th>\n",
       "      <th>prod_link</th>\n",
       "      <th>prod_name</th>\n",
       "      <th>prod_price</th>\n",
       "      <th>rating</th>\n",
       "      <th>no_of_ratings</th>\n",
       "      <th>sponsored</th>\n",
       "      <th>sale_last_month</th>\n",
       "    </tr>\n",
       "  </thead>\n",
       "  <tbody>\n",
       "    <tr>\n",
       "      <th>0</th>\n",
       "      <td>https://m.media-amazon.com/images/I/81Ukrsf8VU...</td>\n",
       "      <td>https://www.amazon.in/sspa/click?ie=UTF8&amp;spc=M...</td>\n",
       "      <td>Elove Electric Heating Gel Pad for Pain Relief...</td>\n",
       "      <td>252</td>\n",
       "      <td>3.7</td>\n",
       "      <td>676</td>\n",
       "      <td>Sponsored</td>\n",
       "      <td>0</td>\n",
       "    </tr>\n",
       "    <tr>\n",
       "      <th>1</th>\n",
       "      <td>https://m.media-amazon.com/images/I/61qwfFcSsN...</td>\n",
       "      <td>https://www.amazon.in/sspa/click?ie=UTF8&amp;spc=M...</td>\n",
       "      <td>MELVIS® Premium Rubber Hot Water Bag - Reusabl...</td>\n",
       "      <td>199</td>\n",
       "      <td>4.1</td>\n",
       "      <td>68</td>\n",
       "      <td>Sponsored</td>\n",
       "      <td>400+</td>\n",
       "    </tr>\n",
       "    <tr>\n",
       "      <th>2</th>\n",
       "      <td>https://m.media-amazon.com/images/I/71NZZzEz1S...</td>\n",
       "      <td>https://www.amazon.in/sspa/click?ie=UTF8&amp;spc=M...</td>\n",
       "      <td>Sahyog Wellness Electrical Hot Water Heating B...</td>\n",
       "      <td>381</td>\n",
       "      <td>4.1</td>\n",
       "      <td>391</td>\n",
       "      <td>Sponsored</td>\n",
       "      <td>0</td>\n",
       "    </tr>\n",
       "    <tr>\n",
       "      <th>3</th>\n",
       "      <td>https://m.media-amazon.com/images/I/81FwX7Cd48...</td>\n",
       "      <td>https://www.amazon.in/ANTILS-Water-Rubber-Reli...</td>\n",
       "      <td>ANTIL'S 2L Hot Water Rubber bag &amp; Cold Water I...</td>\n",
       "      <td>320</td>\n",
       "      <td>4.1</td>\n",
       "      <td>295</td>\n",
       "      <td>Not-Sponsored</td>\n",
       "      <td>50+</td>\n",
       "    </tr>\n",
       "    <tr>\n",
       "      <th>4</th>\n",
       "      <td>https://m.media-amazon.com/images/I/713-6ZUCs4...</td>\n",
       "      <td>https://www.amazon.in/SHAYONAM-Heating-electri...</td>\n",
       "      <td>SHAYONAM Heating Bag with Gel hot Water Bag ho...</td>\n",
       "      <td>299</td>\n",
       "      <td>1.0</td>\n",
       "      <td>3</td>\n",
       "      <td>Not-Sponsored</td>\n",
       "      <td>200+</td>\n",
       "    </tr>\n",
       "  </tbody>\n",
       "</table>\n",
       "</div>"
      ],
      "text/plain": [
       "                                          prod_photo  \\\n",
       "0  https://m.media-amazon.com/images/I/81Ukrsf8VU...   \n",
       "1  https://m.media-amazon.com/images/I/61qwfFcSsN...   \n",
       "2  https://m.media-amazon.com/images/I/71NZZzEz1S...   \n",
       "3  https://m.media-amazon.com/images/I/81FwX7Cd48...   \n",
       "4  https://m.media-amazon.com/images/I/713-6ZUCs4...   \n",
       "\n",
       "                                           prod_link  \\\n",
       "0  https://www.amazon.in/sspa/click?ie=UTF8&spc=M...   \n",
       "1  https://www.amazon.in/sspa/click?ie=UTF8&spc=M...   \n",
       "2  https://www.amazon.in/sspa/click?ie=UTF8&spc=M...   \n",
       "3  https://www.amazon.in/ANTILS-Water-Rubber-Reli...   \n",
       "4  https://www.amazon.in/SHAYONAM-Heating-electri...   \n",
       "\n",
       "                                           prod_name prod_price  rating  \\\n",
       "0  Elove Electric Heating Gel Pad for Pain Relief...        252     3.7   \n",
       "1  MELVIS® Premium Rubber Hot Water Bag - Reusabl...        199     4.1   \n",
       "2  Sahyog Wellness Electrical Hot Water Heating B...        381     4.1   \n",
       "3  ANTIL'S 2L Hot Water Rubber bag & Cold Water I...        320     4.1   \n",
       "4  SHAYONAM Heating Bag with Gel hot Water Bag ho...        299     1.0   \n",
       "\n",
       "  no_of_ratings      sponsored sale_last_month  \n",
       "0          676       Sponsored               0  \n",
       "1           68       Sponsored            400+  \n",
       "2          391       Sponsored               0  \n",
       "3          295   Not-Sponsored             50+  \n",
       "4            3   Not-Sponsored            200+  "
      ]
     },
     "execution_count": 3,
     "metadata": {},
     "output_type": "execute_result"
    }
   ],
   "source": [
    "df.head()"
   ]
  },
  {
   "cell_type": "code",
   "execution_count": 6,
   "id": "d8b52567-965d-474f-a613-c000f6718601",
   "metadata": {},
   "outputs": [
    {
     "data": {
      "text/plain": [
       "prod_photo         0\n",
       "prod_link          0\n",
       "prod_name          0\n",
       "prod_price         1\n",
       "rating             0\n",
       "no_of_ratings      0\n",
       "sponsored          0\n",
       "sale_last_month    4\n",
       "dtype: int64"
      ]
     },
     "execution_count": 6,
     "metadata": {},
     "output_type": "execute_result"
    }
   ],
   "source": [
    "df.isnull().sum()"
   ]
  },
  {
   "cell_type": "code",
   "execution_count": 8,
   "id": "2a923693-4a89-4688-bc12-71578f6bbe5d",
   "metadata": {},
   "outputs": [],
   "source": [
    "df.dropna(inplace = True)"
   ]
  },
  {
   "cell_type": "code",
   "execution_count": 10,
   "id": "f33b0984-89a3-4456-8a5c-bc18e5c0ebc2",
   "metadata": {},
   "outputs": [
    {
     "data": {
      "text/html": [
       "<div>\n",
       "<style scoped>\n",
       "    .dataframe tbody tr th:only-of-type {\n",
       "        vertical-align: middle;\n",
       "    }\n",
       "\n",
       "    .dataframe tbody tr th {\n",
       "        vertical-align: top;\n",
       "    }\n",
       "\n",
       "    .dataframe thead th {\n",
       "        text-align: right;\n",
       "    }\n",
       "</style>\n",
       "<table border=\"1\" class=\"dataframe\">\n",
       "  <thead>\n",
       "    <tr style=\"text-align: right;\">\n",
       "      <th></th>\n",
       "      <th>prod_photo</th>\n",
       "      <th>prod_link</th>\n",
       "      <th>prod_name</th>\n",
       "      <th>prod_price</th>\n",
       "      <th>rating</th>\n",
       "      <th>no_of_ratings</th>\n",
       "      <th>sponsored</th>\n",
       "      <th>sale_last_month</th>\n",
       "    </tr>\n",
       "  </thead>\n",
       "  <tbody>\n",
       "    <tr>\n",
       "      <th>0</th>\n",
       "      <td>https://m.media-amazon.com/images/I/81Ukrsf8VU...</td>\n",
       "      <td>https://www.amazon.in/sspa/click?ie=UTF8&amp;spc=M...</td>\n",
       "      <td>Elove Electric Heating Gel Pad for Pain Relief...</td>\n",
       "      <td>252</td>\n",
       "      <td>3.7</td>\n",
       "      <td>676</td>\n",
       "      <td>Sponsored</td>\n",
       "      <td>0</td>\n",
       "    </tr>\n",
       "    <tr>\n",
       "      <th>1</th>\n",
       "      <td>https://m.media-amazon.com/images/I/61qwfFcSsN...</td>\n",
       "      <td>https://www.amazon.in/sspa/click?ie=UTF8&amp;spc=M...</td>\n",
       "      <td>MELVIS® Premium Rubber Hot Water Bag - Reusabl...</td>\n",
       "      <td>199</td>\n",
       "      <td>4.1</td>\n",
       "      <td>68</td>\n",
       "      <td>Sponsored</td>\n",
       "      <td>400+</td>\n",
       "    </tr>\n",
       "    <tr>\n",
       "      <th>2</th>\n",
       "      <td>https://m.media-amazon.com/images/I/71NZZzEz1S...</td>\n",
       "      <td>https://www.amazon.in/sspa/click?ie=UTF8&amp;spc=M...</td>\n",
       "      <td>Sahyog Wellness Electrical Hot Water Heating B...</td>\n",
       "      <td>381</td>\n",
       "      <td>4.1</td>\n",
       "      <td>391</td>\n",
       "      <td>Sponsored</td>\n",
       "      <td>0</td>\n",
       "    </tr>\n",
       "    <tr>\n",
       "      <th>3</th>\n",
       "      <td>https://m.media-amazon.com/images/I/81FwX7Cd48...</td>\n",
       "      <td>https://www.amazon.in/ANTILS-Water-Rubber-Reli...</td>\n",
       "      <td>ANTIL'S 2L Hot Water Rubber bag &amp; Cold Water I...</td>\n",
       "      <td>320</td>\n",
       "      <td>4.1</td>\n",
       "      <td>295</td>\n",
       "      <td>Not-Sponsored</td>\n",
       "      <td>50+</td>\n",
       "    </tr>\n",
       "    <tr>\n",
       "      <th>4</th>\n",
       "      <td>https://m.media-amazon.com/images/I/713-6ZUCs4...</td>\n",
       "      <td>https://www.amazon.in/SHAYONAM-Heating-electri...</td>\n",
       "      <td>SHAYONAM Heating Bag with Gel hot Water Bag ho...</td>\n",
       "      <td>299</td>\n",
       "      <td>1.0</td>\n",
       "      <td>3</td>\n",
       "      <td>Not-Sponsored</td>\n",
       "      <td>200+</td>\n",
       "    </tr>\n",
       "  </tbody>\n",
       "</table>\n",
       "</div>"
      ],
      "text/plain": [
       "                                          prod_photo  \\\n",
       "0  https://m.media-amazon.com/images/I/81Ukrsf8VU...   \n",
       "1  https://m.media-amazon.com/images/I/61qwfFcSsN...   \n",
       "2  https://m.media-amazon.com/images/I/71NZZzEz1S...   \n",
       "3  https://m.media-amazon.com/images/I/81FwX7Cd48...   \n",
       "4  https://m.media-amazon.com/images/I/713-6ZUCs4...   \n",
       "\n",
       "                                           prod_link  \\\n",
       "0  https://www.amazon.in/sspa/click?ie=UTF8&spc=M...   \n",
       "1  https://www.amazon.in/sspa/click?ie=UTF8&spc=M...   \n",
       "2  https://www.amazon.in/sspa/click?ie=UTF8&spc=M...   \n",
       "3  https://www.amazon.in/ANTILS-Water-Rubber-Reli...   \n",
       "4  https://www.amazon.in/SHAYONAM-Heating-electri...   \n",
       "\n",
       "                                           prod_name prod_price  rating  \\\n",
       "0  Elove Electric Heating Gel Pad for Pain Relief...        252     3.7   \n",
       "1  MELVIS® Premium Rubber Hot Water Bag - Reusabl...        199     4.1   \n",
       "2  Sahyog Wellness Electrical Hot Water Heating B...        381     4.1   \n",
       "3  ANTIL'S 2L Hot Water Rubber bag & Cold Water I...        320     4.1   \n",
       "4  SHAYONAM Heating Bag with Gel hot Water Bag ho...        299     1.0   \n",
       "\n",
       "  no_of_ratings      sponsored sale_last_month  \n",
       "0          676       Sponsored               0  \n",
       "1           68       Sponsored            400+  \n",
       "2          391       Sponsored               0  \n",
       "3          295   Not-Sponsored             50+  \n",
       "4            3   Not-Sponsored            200+  "
      ]
     },
     "execution_count": 10,
     "metadata": {},
     "output_type": "execute_result"
    }
   ],
   "source": [
    "df.head()"
   ]
  },
  {
   "cell_type": "code",
   "execution_count": 15,
   "id": "add99643-ca60-4272-b60c-e0558b1f601b",
   "metadata": {},
   "outputs": [
    {
     "data": {
      "text/plain": [
       "133"
      ]
     },
     "execution_count": 15,
     "metadata": {},
     "output_type": "execute_result"
    }
   ],
   "source": [
    "# total no. of Products that are >198 = 133 out of 155\n",
    "len(df[df['prod_price'] > str(198)])"
   ]
  },
  {
   "cell_type": "code",
   "execution_count": 21,
   "id": "7e4b309c-78f6-4970-a5ab-ca23448b2379",
   "metadata": {},
   "outputs": [],
   "source": [
    "# total no. of Products that are < 199 = 22\n",
    "new_df_less_199 = df[df['prod_price'] < str(199)]"
   ]
  },
  {
   "cell_type": "code",
   "execution_count": 29,
   "id": "8ba77e41-03c7-43a6-8c40-dbaa055f590c",
   "metadata": {},
   "outputs": [
    {
     "data": {
      "text/plain": [
       "8"
      ]
     },
     "execution_count": 29,
     "metadata": {},
     "output_type": "execute_result"
    }
   ],
   "source": [
    "len(new_df_less_199[new_df_less_199['sponsored'] == 'Sponsored'])"
   ]
  },
  {
   "cell_type": "code",
   "execution_count": null,
   "id": "faa66046-4295-4eed-86e6-5987dbc3413d",
   "metadata": {},
   "outputs": [],
   "source": []
  },
  {
   "cell_type": "markdown",
   "id": "7ba978b7-7519-449c-842d-eb4ee67797a5",
   "metadata": {},
   "source": [
    "# Analysis\n",
    "total no. of Products that are < 199 = 22\n",
    "tota no. of products that has price < 199 and had a sponsoreship = 8 (only)\n",
    "tota no. of products that has price < 199 and they have rating < 4 = 5\n",
    "\n"
   ]
  },
  {
   "cell_type": "code",
   "execution_count": 36,
   "id": "4378ed9d-81e5-497e-af89-5ee13d54c88e",
   "metadata": {},
   "outputs": [
    {
     "name": "stderr",
     "output_type": "stream",
     "text": [
      "C:\\Users\\ajeem\\AppData\\Local\\Temp\\ipykernel_19764\\1552465983.py:1: SettingWithCopyWarning: \n",
      "A value is trying to be set on a copy of a slice from a DataFrame.\n",
      "Try using .loc[row_indexer,col_indexer] = value instead\n",
      "\n",
      "See the caveats in the documentation: https://pandas.pydata.org/pandas-docs/stable/user_guide/indexing.html#returning-a-view-versus-a-copy\n",
      "  new_df_less_199['rating']=new_df_less_199['rating'].astype('int')\n"
     ]
    }
   ],
   "source": [
    "new_df_less_199['rating']=new_df_less_199['rating'].astype('int')"
   ]
  },
  {
   "cell_type": "code",
   "execution_count": 43,
   "id": "83952cfe-8017-4134-8caa-2a06f3445963",
   "metadata": {},
   "outputs": [
    {
     "data": {
      "text/html": [
       "<div>\n",
       "<style scoped>\n",
       "    .dataframe tbody tr th:only-of-type {\n",
       "        vertical-align: middle;\n",
       "    }\n",
       "\n",
       "    .dataframe tbody tr th {\n",
       "        vertical-align: top;\n",
       "    }\n",
       "\n",
       "    .dataframe thead th {\n",
       "        text-align: right;\n",
       "    }\n",
       "</style>\n",
       "<table border=\"1\" class=\"dataframe\">\n",
       "  <thead>\n",
       "    <tr style=\"text-align: right;\">\n",
       "      <th></th>\n",
       "      <th>prod_photo</th>\n",
       "      <th>prod_link</th>\n",
       "      <th>prod_name</th>\n",
       "      <th>prod_price</th>\n",
       "      <th>rating</th>\n",
       "      <th>no_of_ratings</th>\n",
       "      <th>sponsored</th>\n",
       "      <th>sale_last_month</th>\n",
       "    </tr>\n",
       "  </thead>\n",
       "  <tbody>\n",
       "    <tr>\n",
       "      <th>35</th>\n",
       "      <td>https://m.media-amazon.com/images/I/71JYLRck-U...</td>\n",
       "      <td>https://www.amazon.in/sspa/click?ie=UTF8&amp;spc=M...</td>\n",
       "      <td>Asweda Hot &amp; Cold Reusable Wheat Bags for Back...</td>\n",
       "      <td>1,599</td>\n",
       "      <td>3</td>\n",
       "      <td>18</td>\n",
       "      <td>Sponsored</td>\n",
       "      <td>0</td>\n",
       "    </tr>\n",
       "    <tr>\n",
       "      <th>59</th>\n",
       "      <td>https://m.media-amazon.com/images/I/71VgY5e4gH...</td>\n",
       "      <td>https://www.amazon.in/sspa/click?ie=UTF8&amp;spc=M...</td>\n",
       "      <td>ELOVE Orthopaedic Electric Heating Pad for Pai...</td>\n",
       "      <td>1,034</td>\n",
       "      <td>3</td>\n",
       "      <td>676</td>\n",
       "      <td>Sponsored</td>\n",
       "      <td>50+</td>\n",
       "    </tr>\n",
       "    <tr>\n",
       "      <th>97</th>\n",
       "      <td>https://m.media-amazon.com/images/I/61+J2FiCFf...</td>\n",
       "      <td>https://www.amazon.in/sspa/click?ie=UTF8&amp;spc=M...</td>\n",
       "      <td>WEPTIX Heating Pad with Gel for Pain Relief | ...</td>\n",
       "      <td>1,099</td>\n",
       "      <td>3</td>\n",
       "      <td>30</td>\n",
       "      <td>Sponsored</td>\n",
       "      <td>(₹1,099₹1,099/count)</td>\n",
       "    </tr>\n",
       "    <tr>\n",
       "      <th>126</th>\n",
       "      <td>https://m.media-amazon.com/images/I/71PiRCpCLP...</td>\n",
       "      <td>https://www.amazon.in/sspa/click?ie=UTF8&amp;spc=M...</td>\n",
       "      <td>Shenaro Lifestyle's Hot &amp; Cold Microwavable Re...</td>\n",
       "      <td>1,769</td>\n",
       "      <td>3</td>\n",
       "      <td>10</td>\n",
       "      <td>Sponsored</td>\n",
       "      <td>0</td>\n",
       "    </tr>\n",
       "    <tr>\n",
       "      <th>132</th>\n",
       "      <td>https://m.media-amazon.com/images/I/81I9seiBD-...</td>\n",
       "      <td>https://www.amazon.in/sspa/click?ie=UTF8&amp;spc=M...</td>\n",
       "      <td>Asweda Hot &amp; Cold Reusable Wheat Bags for Knee...</td>\n",
       "      <td>1,199</td>\n",
       "      <td>3</td>\n",
       "      <td>5</td>\n",
       "      <td>Sponsored</td>\n",
       "      <td>0</td>\n",
       "    </tr>\n",
       "  </tbody>\n",
       "</table>\n",
       "</div>"
      ],
      "text/plain": [
       "                                            prod_photo  \\\n",
       "35   https://m.media-amazon.com/images/I/71JYLRck-U...   \n",
       "59   https://m.media-amazon.com/images/I/71VgY5e4gH...   \n",
       "97   https://m.media-amazon.com/images/I/61+J2FiCFf...   \n",
       "126  https://m.media-amazon.com/images/I/71PiRCpCLP...   \n",
       "132  https://m.media-amazon.com/images/I/81I9seiBD-...   \n",
       "\n",
       "                                             prod_link  \\\n",
       "35   https://www.amazon.in/sspa/click?ie=UTF8&spc=M...   \n",
       "59   https://www.amazon.in/sspa/click?ie=UTF8&spc=M...   \n",
       "97   https://www.amazon.in/sspa/click?ie=UTF8&spc=M...   \n",
       "126  https://www.amazon.in/sspa/click?ie=UTF8&spc=M...   \n",
       "132  https://www.amazon.in/sspa/click?ie=UTF8&spc=M...   \n",
       "\n",
       "                                             prod_name prod_price  rating  \\\n",
       "35   Asweda Hot & Cold Reusable Wheat Bags for Back...      1,599       3   \n",
       "59   ELOVE Orthopaedic Electric Heating Pad for Pai...      1,034       3   \n",
       "97   WEPTIX Heating Pad with Gel for Pain Relief | ...      1,099       3   \n",
       "126  Shenaro Lifestyle's Hot & Cold Microwavable Re...      1,769       3   \n",
       "132  Asweda Hot & Cold Reusable Wheat Bags for Knee...      1,199       3   \n",
       "\n",
       "    no_of_ratings  sponsored       sale_last_month  \n",
       "35            18   Sponsored                     0  \n",
       "59           676   Sponsored                   50+  \n",
       "97            30   Sponsored  (₹1,099₹1,099/count)  \n",
       "126           10   Sponsored                     0  \n",
       "132            5   Sponsored                     0  "
      ]
     },
     "execution_count": 43,
     "metadata": {},
     "output_type": "execute_result"
    }
   ],
   "source": [
    "new_df_less_199[(new_df_less_199['sponsored'] == 'Sponsored') & (new_df_less_199['rating'] < 4)]"
   ]
  },
  {
   "cell_type": "code",
   "execution_count": 39,
   "id": "0f051727-e0d9-4b57-a7ea-76896108eb3d",
   "metadata": {},
   "outputs": [],
   "source": [
    "filtered_df = new_df_less_199[(new_df_less_199['sponsored'] == 'Sponsored') & (new_df_less_199['rating'] < 4)]\n"
   ]
  },
  {
   "cell_type": "code",
   "execution_count": 40,
   "id": "b7f7a545-3a75-4301-8388-07ff93c84a5e",
   "metadata": {},
   "outputs": [
    {
     "data": {
      "text/html": [
       "<div>\n",
       "<style scoped>\n",
       "    .dataframe tbody tr th:only-of-type {\n",
       "        vertical-align: middle;\n",
       "    }\n",
       "\n",
       "    .dataframe tbody tr th {\n",
       "        vertical-align: top;\n",
       "    }\n",
       "\n",
       "    .dataframe thead th {\n",
       "        text-align: right;\n",
       "    }\n",
       "</style>\n",
       "<table border=\"1\" class=\"dataframe\">\n",
       "  <thead>\n",
       "    <tr style=\"text-align: right;\">\n",
       "      <th></th>\n",
       "      <th>prod_photo</th>\n",
       "      <th>prod_link</th>\n",
       "      <th>prod_name</th>\n",
       "      <th>prod_price</th>\n",
       "      <th>rating</th>\n",
       "      <th>no_of_ratings</th>\n",
       "      <th>sponsored</th>\n",
       "      <th>sale_last_month</th>\n",
       "    </tr>\n",
       "  </thead>\n",
       "  <tbody>\n",
       "    <tr>\n",
       "      <th>35</th>\n",
       "      <td>https://m.media-amazon.com/images/I/71JYLRck-U...</td>\n",
       "      <td>https://www.amazon.in/sspa/click?ie=UTF8&amp;spc=M...</td>\n",
       "      <td>Asweda Hot &amp; Cold Reusable Wheat Bags for Back...</td>\n",
       "      <td>1,599</td>\n",
       "      <td>3</td>\n",
       "      <td>18</td>\n",
       "      <td>Sponsored</td>\n",
       "      <td>0</td>\n",
       "    </tr>\n",
       "    <tr>\n",
       "      <th>59</th>\n",
       "      <td>https://m.media-amazon.com/images/I/71VgY5e4gH...</td>\n",
       "      <td>https://www.amazon.in/sspa/click?ie=UTF8&amp;spc=M...</td>\n",
       "      <td>ELOVE Orthopaedic Electric Heating Pad for Pai...</td>\n",
       "      <td>1,034</td>\n",
       "      <td>3</td>\n",
       "      <td>676</td>\n",
       "      <td>Sponsored</td>\n",
       "      <td>50+</td>\n",
       "    </tr>\n",
       "    <tr>\n",
       "      <th>97</th>\n",
       "      <td>https://m.media-amazon.com/images/I/61+J2FiCFf...</td>\n",
       "      <td>https://www.amazon.in/sspa/click?ie=UTF8&amp;spc=M...</td>\n",
       "      <td>WEPTIX Heating Pad with Gel for Pain Relief | ...</td>\n",
       "      <td>1,099</td>\n",
       "      <td>3</td>\n",
       "      <td>30</td>\n",
       "      <td>Sponsored</td>\n",
       "      <td>(₹1,099₹1,099/count)</td>\n",
       "    </tr>\n",
       "    <tr>\n",
       "      <th>126</th>\n",
       "      <td>https://m.media-amazon.com/images/I/71PiRCpCLP...</td>\n",
       "      <td>https://www.amazon.in/sspa/click?ie=UTF8&amp;spc=M...</td>\n",
       "      <td>Shenaro Lifestyle's Hot &amp; Cold Microwavable Re...</td>\n",
       "      <td>1,769</td>\n",
       "      <td>3</td>\n",
       "      <td>10</td>\n",
       "      <td>Sponsored</td>\n",
       "      <td>0</td>\n",
       "    </tr>\n",
       "    <tr>\n",
       "      <th>132</th>\n",
       "      <td>https://m.media-amazon.com/images/I/81I9seiBD-...</td>\n",
       "      <td>https://www.amazon.in/sspa/click?ie=UTF8&amp;spc=M...</td>\n",
       "      <td>Asweda Hot &amp; Cold Reusable Wheat Bags for Knee...</td>\n",
       "      <td>1,199</td>\n",
       "      <td>3</td>\n",
       "      <td>5</td>\n",
       "      <td>Sponsored</td>\n",
       "      <td>0</td>\n",
       "    </tr>\n",
       "  </tbody>\n",
       "</table>\n",
       "</div>"
      ],
      "text/plain": [
       "                                            prod_photo  \\\n",
       "35   https://m.media-amazon.com/images/I/71JYLRck-U...   \n",
       "59   https://m.media-amazon.com/images/I/71VgY5e4gH...   \n",
       "97   https://m.media-amazon.com/images/I/61+J2FiCFf...   \n",
       "126  https://m.media-amazon.com/images/I/71PiRCpCLP...   \n",
       "132  https://m.media-amazon.com/images/I/81I9seiBD-...   \n",
       "\n",
       "                                             prod_link  \\\n",
       "35   https://www.amazon.in/sspa/click?ie=UTF8&spc=M...   \n",
       "59   https://www.amazon.in/sspa/click?ie=UTF8&spc=M...   \n",
       "97   https://www.amazon.in/sspa/click?ie=UTF8&spc=M...   \n",
       "126  https://www.amazon.in/sspa/click?ie=UTF8&spc=M...   \n",
       "132  https://www.amazon.in/sspa/click?ie=UTF8&spc=M...   \n",
       "\n",
       "                                             prod_name prod_price  rating  \\\n",
       "35   Asweda Hot & Cold Reusable Wheat Bags for Back...      1,599       3   \n",
       "59   ELOVE Orthopaedic Electric Heating Pad for Pai...      1,034       3   \n",
       "97   WEPTIX Heating Pad with Gel for Pain Relief | ...      1,099       3   \n",
       "126  Shenaro Lifestyle's Hot & Cold Microwavable Re...      1,769       3   \n",
       "132  Asweda Hot & Cold Reusable Wheat Bags for Knee...      1,199       3   \n",
       "\n",
       "    no_of_ratings  sponsored       sale_last_month  \n",
       "35            18   Sponsored                     0  \n",
       "59           676   Sponsored                   50+  \n",
       "97            30   Sponsored  (₹1,099₹1,099/count)  \n",
       "126           10   Sponsored                     0  \n",
       "132            5   Sponsored                     0  "
      ]
     },
     "execution_count": 40,
     "metadata": {},
     "output_type": "execute_result"
    }
   ],
   "source": [
    "filtered_df"
   ]
  },
  {
   "cell_type": "code",
   "execution_count": 46,
   "id": "32d072ec-0d18-4080-ad5a-1abe3872f4e1",
   "metadata": {},
   "outputs": [
    {
     "data": {
      "text/plain": [
       "47"
      ]
     },
     "execution_count": 46,
     "metadata": {},
     "output_type": "execute_result"
    }
   ],
   "source": [
    "len(df[df['sponsored'] == 'Sponsored']) # total 47 out of 153 products"
   ]
  },
  {
   "cell_type": "code",
   "execution_count": 47,
   "id": "6755b6e2-4f60-4a64-8ac7-1cba7d98b937",
   "metadata": {},
   "outputs": [],
   "source": [
    "df_sponsored = df[df['sponsored'] == 'Sponsored']"
   ]
  },
  {
   "cell_type": "code",
   "execution_count": 51,
   "id": "7ff62d78-e7d3-4d90-82e6-21bcd08a2e1f",
   "metadata": {},
   "outputs": [
    {
     "data": {
      "text/plain": [
       "prod_price\n",
       "349      3\n",
       "499      3\n",
       "599      2\n",
       "999      2\n",
       "279      2\n",
       "450      1\n",
       "298      1\n",
       "314      1\n",
       "510      1\n",
       "490      1\n",
       "1,769    1\n",
       "129      1\n",
       "426      1\n",
       "439      1\n",
       "237      1\n",
       "1,199    1\n",
       "849      1\n",
       "825      1\n",
       "799      1\n",
       "229      1\n",
       "299      1\n",
       "224      1\n",
       "252      1\n",
       "1,999    1\n",
       "219      1\n",
       "381      1\n",
       "209      1\n",
       "749      1\n",
       "225      1\n",
       "449      1\n",
       "1,599    1\n",
       "949      1\n",
       "199      1\n",
       "1,034    1\n",
       "998      1\n",
       "470      1\n",
       "151      1\n",
       "699      1\n",
       "1,099    1\n",
       "280      1\n",
       "Name: count, dtype: int64"
      ]
     },
     "execution_count": 51,
     "metadata": {},
     "output_type": "execute_result"
    }
   ],
   "source": [
    "df_sponsored['prod_price'].value_counts()"
   ]
  },
  {
   "cell_type": "code",
   "execution_count": 54,
   "id": "37f475f9-0e90-4c18-b3de-7e8be8e55317",
   "metadata": {},
   "outputs": [
    {
     "data": {
      "text/plain": [
       "0                         0\n",
       "1                      400+\n",
       "2                         0\n",
       "24                        0\n",
       "25                     100+\n",
       "26                      50+\n",
       "27                      1K+\n",
       "30                     200+\n",
       "31                        0\n",
       "32                      3K+\n",
       "33                        0\n",
       "34                        0\n",
       "35                        0\n",
       "36                      1K+\n",
       "37                        0\n",
       "59                      50+\n",
       "60                        0\n",
       "61                     200+\n",
       "62                        0\n",
       "95                     600+\n",
       "96                     100+\n",
       "97     (₹1,099₹1,099/count)\n",
       "98                      4K+\n",
       "99     (₹1,999₹1,999/count)\n",
       "100                       0\n",
       "101                     50+\n",
       "102                       0\n",
       "119        (₹298₹298/count)\n",
       "120                       0\n",
       "121                       0\n",
       "122                       0\n",
       "125                       0\n",
       "126                       0\n",
       "127                       0\n",
       "128        (₹129₹129/count)\n",
       "129                       0\n",
       "130                    300+\n",
       "131                       0\n",
       "132                       0\n",
       "149                       0\n",
       "150                       0\n",
       "151                       0\n",
       "152                    700+\n",
       "155                    200+\n",
       "156                       0\n",
       "157                       0\n",
       "158                       0\n",
       "Name: sale_last_month, dtype: object"
      ]
     },
     "execution_count": 54,
     "metadata": {},
     "output_type": "execute_result"
    }
   ],
   "source": [
    "df_sponsored['sale_last_month']"
   ]
  },
  {
   "cell_type": "code",
   "execution_count": null,
   "id": "a7490ee1-5c73-4579-b0a7-eeb60421af7e",
   "metadata": {},
   "outputs": [],
   "source": []
  }
 ],
 "metadata": {
  "kernelspec": {
   "display_name": "Python 3 (ipykernel)",
   "language": "python",
   "name": "python3"
  },
  "language_info": {
   "codemirror_mode": {
    "name": "ipython",
    "version": 3
   },
   "file_extension": ".py",
   "mimetype": "text/x-python",
   "name": "python",
   "nbconvert_exporter": "python",
   "pygments_lexer": "ipython3",
   "version": "3.12.4"
  }
 },
 "nbformat": 4,
 "nbformat_minor": 5
}
